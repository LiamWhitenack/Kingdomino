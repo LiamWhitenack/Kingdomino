{
 "cells": [
  {
   "cell_type": "code",
   "execution_count": 14,
   "metadata": {},
   "outputs": [
    {
     "name": "stdout",
     "output_type": "stream",
     "text": [
      "[1, 0]\n",
      "[0, 1]\n",
      "[0, 1]\n"
     ]
    }
   ],
   "source": [
    "from classes import *\n",
    "piece21 = domino([1, 0], ['yellow', 'green'])\n",
    "piece21.rotate()\n",
    "print(piece21.crowns)\n",
    "piece21.rotate()\n",
    "print(piece21.crowns)\n",
    "piece21.rotate()\n",
    "print(piece21.crowns)"
   ]
  },
  {
   "cell_type": "code",
   "execution_count": 15,
   "metadata": {},
   "outputs": [
    {
     "name": "stdout",
     "output_type": "stream",
     "text": [
      "\u001b[42m\u001b[30m 0 \u001b[0m  \n",
      "\u001b[43m\u001b[30m 1 \u001b[0m  \n",
      "\u001b[100m\u001b[30m + \u001b[0m  \n",
      "\u001b[42m\u001b[30m 0 \u001b[0m  \u001b[42m\u001b[30m 0 \u001b[0m  \n",
      "\u001b[43m\u001b[30m 1 \u001b[0m  \u001b[43m\u001b[30m 1 \u001b[0m  \n",
      "\u001b[100m\u001b[30m + \u001b[0m  \u001b[40m\u001b[30m   \u001b[0m  \n",
      "\u001b[42m\u001b[30m 0 \u001b[0m  \u001b[42m\u001b[30m 0 \u001b[0m  \u001b[40m\u001b[30m   \u001b[0m  \n",
      "\u001b[43m\u001b[30m 1 \u001b[0m  \u001b[43m\u001b[30m 1 \u001b[0m  \u001b[40m\u001b[30m   \u001b[0m  \n",
      "\u001b[100m\u001b[30m + \u001b[0m  \u001b[43m\u001b[30m 1 \u001b[0m  \u001b[42m\u001b[30m 0 \u001b[0m  \n",
      "\u001b[42m\u001b[30m 0 \u001b[0m  \u001b[42m\u001b[30m 0 \u001b[0m  \u001b[40m\u001b[30m   \u001b[0m  \n",
      "\u001b[43m\u001b[30m 1 \u001b[0m  \u001b[43m\u001b[30m 1 \u001b[0m  \u001b[40m\u001b[30m   \u001b[0m  \n",
      "\u001b[100m\u001b[30m + \u001b[0m  \u001b[43m\u001b[30m 1 \u001b[0m  \u001b[42m\u001b[30m 0 \u001b[0m  \n",
      "\u001b[42m\u001b[30m 0 \u001b[0m  \u001b[43m\u001b[30m 1 \u001b[0m  \u001b[40m\u001b[30m   \u001b[0m  \n"
     ]
    }
   ],
   "source": [
    "from play import *\n",
    "player1 = kingdom()\n",
    "\n",
    "experiment = player1.place_piece(piece21, (0,-2))\n",
    "player1.update_board(experiment)\n",
    "print_kingdom(player1.kingdom_crowns, player1.kingdom_colors)\n",
    "experiment = player1.place_piece(piece21, (1,0))\n",
    "player1.update_board(experiment)\n",
    "print_kingdom(player1.kingdom_crowns, player1.kingdom_colors)\n",
    "piece21.rotate()\n",
    "experiment = player1.place_piece(piece21, (1,2))\n",
    "player1.update_board(experiment)\n",
    "print_kingdom(player1.kingdom_crowns, player1.kingdom_colors)\n",
    "piece21.rotate()\n",
    "piece21.rotate()\n",
    "experiment = player1.place_piece(piece21, (0,3))\n",
    "player1.update_board(experiment)\n",
    "print_kingdom(player1.kingdom_crowns, player1.kingdom_colors)\n"
   ]
  },
  {
   "cell_type": "code",
   "execution_count": 17,
   "metadata": {},
   "outputs": [
    {
     "name": "stdout",
     "output_type": "stream",
     "text": [
      "\u001b[100m\u001b[30m + \u001b[0m  \u001b[40m\u001b[30m   \u001b[0m  \n",
      "\u001b[43m\u001b[30m 1 \u001b[0m  \u001b[42m\u001b[30m 0 \u001b[0m  \n",
      "neighbor: (0, 0), neighbor color: on_light_grey, part color: on_yellow, piece section: 0\n"
     ]
    }
   ],
   "source": [
    "# print_kingdom(player1.kingdom_crowns, player1.kingdom_colors)\n",
    "player2 = kingdom()\n",
    "position = (0,1)\n",
    "piece21.rotate()\n",
    "# experiment = player1.place_piece(piece21, position)\n",
    "# print_kingdom(experiment[0], experiment[1])\n",
    "# piece21.check_has_neighbors(player1.kingdom_crowns, position)\n",
    "# piece21.check_has_same_color_neighbors(player1.kingdom_colors, position)\n",
    "# piece21.check_within_bounds(position)\n",
    "experiment = player2.place_piece(piece21, position)\n",
    "print_kingdom(experiment[0], experiment[1])\n",
    "piece21.check_has_neighbors(player2.kingdom_crowns, position)\n",
    "piece21.check_has_same_color_neighbors(player2.kingdom_colors, position)\n",
    "piece21.check_within_bounds(player2.kingdom_crowns, position)\n"
   ]
  },
  {
   "cell_type": "code",
   "execution_count": null,
   "metadata": {},
   "outputs": [],
   "source": []
  }
 ],
 "metadata": {
  "kernelspec": {
   "display_name": "Python 3",
   "language": "python",
   "name": "python3"
  },
  "language_info": {
   "codemirror_mode": {
    "name": "ipython",
    "version": 3
   },
   "file_extension": ".py",
   "mimetype": "text/m-python",
   "name": "python",
   "nbconvert_exporter": "python",
   "pygments_lexer": "ipython3",
   "version": "3.11.1"
  },
  "orig_nbformat": 4,
  "vscode": {
   "interpreter": {
    "hash": "bc65515337ad74ec9b1be415dab3f3ce14df8069d17d174a06ce12d2cb2e1e3c"
   }
  }
 },
 "nbformat": 4,
 "nbformat_minor": 2
}
